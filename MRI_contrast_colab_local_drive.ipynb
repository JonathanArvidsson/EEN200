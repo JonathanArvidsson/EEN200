{
  "cells": [
    {
      "cell_type": "markdown",
      "metadata": {
        "id": "view-in-github",
        "colab_type": "text"
      },
      "source": [
        "<a href=\"https://colab.research.google.com/github/JonathanArvidsson/EEN200/blob/main/MRI_contrast_colab_local_drive.ipynb\" target=\"_parent\"><img src=\"https://colab.research.google.com/assets/colab-badge.svg\" alt=\"Open In Colab\"/></a>"
      ]
    },
    {
      "cell_type": "markdown",
      "id": "2be4e12e",
      "metadata": {
        "id": "2be4e12e"
      },
      "source": [
        "<a href=\"https://colab.research.google.com/github/JonathanArvidsson/EEN200/blob/main/MRI_contrast_colab.ipynb\" target=\"_parent\"><img src=\"https://colab.research.google.com/assets/colab-badge.svg\" alt=\"Open In Colab\"/></a>"
      ]
    },
    {
      "cell_type": "code",
      "source": [
        "!pip install ipympl\n",
        "from google.colab import drive\n",
        "drive.mount(\"/content/drive\")\n",
        "import sys\n",
        "path_m = '/content/drive/MyDrive/Colab_Notebooks/Relax_GIT/EEN200'\n",
        "sys.path.insert(0,path_m)\n",
        "import MRI_contrast as Mc\n",
        "from google.colab import output\n",
        "output.enable_custom_widget_manager()\n",
        "%matplotlib widget"
      ],
      "metadata": {
        "id": "fPuaaLC9A8V3"
      },
      "execution_count": null,
      "outputs": [],
      "id": "fPuaaLC9A8V3"
    },
    {
      "cell_type": "code",
      "execution_count": null,
      "id": "adfb5c71",
      "metadata": {
        "id": "adfb5c71",
        "scrolled": true
      },
      "outputs": [],
      "source": [
        "from importlib import reload #tbr\n",
        "reload(Mc) #tbr\n",
        "\n",
        "gui1 = Mc.MRI_contrast_gui('spin echo',phantom_folder_path='/content/drive/MyDrive/Colab_Notebooks/Relax_GIT/EEN200/numPhantom')"
      ]
    }
  ],
  "metadata": {
    "colab": {
      "provenance": [],
      "include_colab_link": true
    },
    "kernelspec": {
      "display_name": "Python 3 (ipykernel)",
      "language": "python",
      "name": "python3"
    },
    "language_info": {
      "codemirror_mode": {
        "name": "ipython",
        "version": 3
      },
      "file_extension": ".py",
      "mimetype": "text/x-python",
      "name": "python",
      "nbconvert_exporter": "python",
      "pygments_lexer": "ipython3",
      "version": "3.11.4"
    }
  },
  "nbformat": 4,
  "nbformat_minor": 5
}