{
  "cells": [
    {
      "cell_type": "markdown",
      "metadata": {
        "id": "view-in-github",
        "colab_type": "text"
      },
      "source": [
        "<a href=\"https://colab.research.google.com/github/JonathanArvidsson/EEN200/blob/main/MRI_contrast_colab_git.ipynb\" target=\"_parent\"><img src=\"https://colab.research.google.com/assets/colab-badge.svg\" alt=\"Open In Colab\"/></a>"
      ]
    },
    {
      "cell_type": "code",
      "execution_count": null,
      "id": "e8afdf05-f183-4ba8-8f7c-a5515733f835",
      "metadata": {
        "id": "e8afdf05-f183-4ba8-8f7c-a5515733f835",
        "scrolled": true,
        "collapsed": true,
        "cellView": "form"
      },
      "outputs": [],
      "source": [
        "#@title Setup environment (run first)\n",
        "\n",
        "# Envirnonment\n",
        "!pip install ipympl &> /dev/null # for widget backend\n",
        "!pip install matplotlib --quiet # degrade Matplotlib\n",
        "!git clone https://github.com/JonathanArvidsson/EEN200.git &> /dev/null\n",
        "import os\n",
        "os.kill(os.getpid(), 9)"
      ]
    },
    {
      "cell_type": "code",
      "source": [
        "#@title Spin echo\n",
        "#COLAB only\n",
        "#from google.colab import drive\n",
        "#drive.mount(\"/content/drive\")\n",
        "import sys\n",
        "import time\n",
        "sys.path.insert(0,'/content/EEN200')\n",
        "from google.colab import output\n",
        "output.enable_custom_widget_manager()\n",
        "\n",
        "#Spin echo\n",
        "import matplotlib\n",
        "#%matplotlib --list\n",
        "%matplotlib widget\n",
        "import MRI_contrast as Mc\n",
        "from importlib import reload #to be removed after debug\n",
        "reload(Mc) # to be removed\n",
        "gui1 = Mc.MRI_contrast_gui('spin echo',phantom_folder_path='EEN200/numPhantom')"
      ],
      "metadata": {
        "id": "xSZhXrhqaV41",
        "cellView": "form"
      },
      "id": "xSZhXrhqaV41",
      "execution_count": null,
      "outputs": []
    },
    {
      "cell_type": "code",
      "execution_count": null,
      "id": "52ba31cb-bafd-4b81-b94c-9947e33e9f58",
      "metadata": {
        "cellView": "form",
        "id": "52ba31cb-bafd-4b81-b94c-9947e33e9f58",
        "scrolled": true
      },
      "outputs": [],
      "source": [
        "#@title Inversion recovery\n",
        "gui2 = Mc.MRI_contrast_gui('inversion recovery',phantom_folder_path='EEN200/numPhantom')"
      ]
    },
    {
      "cell_type": "code",
      "execution_count": null,
      "id": "ba9829d4",
      "metadata": {
        "cellView": "form",
        "id": "ba9829d4"
      },
      "outputs": [],
      "source": [
        "#@title Gradient echo\n",
        "gui3 = Mc.MRI_contrast_gui('gradient echo',phantom_folder_path='EEN200/numPhantom')"
      ]
    }
  ],
  "metadata": {
    "cellView": "form",
    "colab": {
      "provenance": [],
      "collapsed_sections": [
        "e8afdf05-f183-4ba8-8f7c-a5515733f835",
        "xSZhXrhqaV41"
      ],
      "include_colab_link": true
    },
    "kernelspec": {
      "display_name": "Python 3 (ipykernel)",
      "language": "python",
      "name": "python3"
    },
    "language_info": {
      "codemirror_mode": {
        "name": "ipython",
        "version": 3
      },
      "file_extension": ".py",
      "mimetype": "text/x-python",
      "name": "python",
      "nbconvert_exporter": "python",
      "pygments_lexer": "ipython3",
      "version": "3.11.4"
    }
  },
  "nbformat": 4,
  "nbformat_minor": 5
}